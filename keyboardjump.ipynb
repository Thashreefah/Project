{
 "cells": [
  {
   "cell_type": "code",
   "execution_count": 16,
   "metadata": {},
   "outputs": [],
   "source": [
    "import pygame\n",
    "import random\n",
    "import time\n",
    "\n"
   ]
  },
  {
   "cell_type": "code",
   "execution_count": 17,
   "metadata": {},
   "outputs": [
    {
     "name": "stdout",
     "output_type": "stream",
     "text": [
      "Requirement already satisfied: pygame in c:\\programdata\\anaconda3\\lib\\site-packages (2.1.2)Note: you may need to restart the kernel to use updated packages.\n",
      "\n"
     ]
    }
   ],
   "source": [
    "pip install pygame"
   ]
  },
  {
   "cell_type": "code",
   "execution_count": 18,
   "metadata": {},
   "outputs": [],
   "source": [
    "pygame.init()\n",
    "WIDTH = 800\n",
    "HEIGHT = 600\n",
    "black=(0,0,0)\n",
    "gameDisplay = pygame.display.set_mode((WIDTH, HEIGHT))   #setting game display size\n",
    "background = pygame.image.load('BUTTERFLY1.jpg')\n",
    "background = pygame.transform.scale(background, (WIDTH, HEIGHT))  #scale image \n",
    "font = pygame.font.Font('comic.ttf', 40)"
   ]
  },
  {
   "cell_type": "code",
   "execution_count": 19,
   "metadata": {},
   "outputs": [],
   "source": [
    "word_speed = 0.5\n",
    "score = 0\n",
    "def new_word():\n",
    "    global displayword, yourword, x_cor, y_cor, text, word_speed\n",
    "    x_cor = random.randint(300,700)     \n",
    "    y_cor = 200  #y-cor\n",
    "    word_speed += 0.10\n",
    "    yourword = ''\n",
    "    words = open(\"words.txt\").read().split(', ')\n",
    "    displayword = random.choice(words)\n",
    "    \n",
    "new_word()\n",
    "\n",
    "font_name = pygame.font.match_font('comic.ttf')\n",
    "\n",
    "def draw_text(display, text, size, x, y):\n",
    "    font = pygame.font.Font(font_name, size)\n",
    "    text_surface = font.render(text, True, black)\n",
    "    text_rect = text_surface.get_rect()\n",
    "    text_rect.midtop = (x, y)\n",
    "    gameDisplay.blit(text_surface, text_rect)\n",
    "    \n",
    "def game_front_screen():\n",
    "    gameDisplay.blit(background, (0,0))\n",
    "    if not game_over :\n",
    "        draw_text(gameDisplay, \"GAME OVER!\", 90, WIDTH / 2, HEIGHT / 4)\n",
    "        draw_text(gameDisplay,\"Score : \" + str(score), 70, WIDTH / 2, HEIGHT /2)\n",
    "    else:\n",
    "        draw_text(gameDisplay, \"Press any key to begin!\", 54, WIDTH / 2, 500)\n",
    "    pygame.display.flip()\n",
    "    waiting = True\n",
    "    while waiting:\n",
    "        for event in pygame.event.get():\n",
    "            if event.type == pygame.QUIT:\n",
    "                pygame.quit()\n",
    "            if event.type == pygame.KEYUP:\n",
    "                waiting = False"
   ]
  },
  {
   "cell_type": "code",
   "execution_count": 20,
   "metadata": {},
   "outputs": [
    {
     "ename": "error",
     "evalue": "video system not initialized",
     "output_type": "error",
     "traceback": [
      "\u001b[1;31m---------------------------------------------------------------------------\u001b[0m",
      "\u001b[1;31merror\u001b[0m                                     Traceback (most recent call last)",
      "\u001b[1;32m<ipython-input-20-2ddb7453a4c3>\u001b[0m in \u001b[0;36m<module>\u001b[1;34m\u001b[0m\n\u001b[0;32m     36\u001b[0m \u001b[1;33m\u001b[0m\u001b[0m\n\u001b[0;32m     37\u001b[0m     \u001b[1;32mif\u001b[0m \u001b[0my_cor\u001b[0m \u001b[1;33m<\u001b[0m \u001b[0mHEIGHT\u001b[0m\u001b[1;33m-\u001b[0m\u001b[1;36m5\u001b[0m\u001b[1;33m:\u001b[0m\u001b[1;33m\u001b[0m\u001b[1;33m\u001b[0m\u001b[0m\n\u001b[1;32m---> 38\u001b[1;33m         \u001b[0mpygame\u001b[0m\u001b[1;33m.\u001b[0m\u001b[0mdisplay\u001b[0m\u001b[1;33m.\u001b[0m\u001b[0mupdate\u001b[0m\u001b[1;33m(\u001b[0m\u001b[1;33m)\u001b[0m\u001b[1;33m\u001b[0m\u001b[1;33m\u001b[0m\u001b[0m\n\u001b[0m\u001b[0;32m     39\u001b[0m     \u001b[1;32melse\u001b[0m\u001b[1;33m:\u001b[0m\u001b[1;33m\u001b[0m\u001b[1;33m\u001b[0m\u001b[0m\n\u001b[0;32m     40\u001b[0m         \u001b[0mgame_front_screen\u001b[0m\u001b[1;33m(\u001b[0m\u001b[1;33m)\u001b[0m\u001b[1;33m\u001b[0m\u001b[1;33m\u001b[0m\u001b[0m\n",
      "\u001b[1;31merror\u001b[0m: video system not initialized"
     ]
    }
   ],
   "source": [
    "game_over = True\n",
    "game_start = True\n",
    "while True:\n",
    "    if game_over:\n",
    "        if game_start:\n",
    "            game_front_screen()\n",
    "        game_start = False\n",
    "    game_over = False\n",
    "    background = pygame.image.load('teacher-background.jpg')\n",
    "    background = pygame.transform.scale(background, (WIDTH, HEIGHT))\n",
    "    character = pygame.image.load('char.jpg')\n",
    "    character = pygame.transform.scale(character, (50,50))\n",
    "    wood = pygame.image.load('wood-.png')\n",
    "    wood = pygame.transform.scale(wood, (90,50))\n",
    "    gameDisplay.blit(background, (0,0))\n",
    "    gameDisplay.blit(wood,(x_cor-50,y_cor+15))\n",
    "    gameDisplay.blit(character,(x_cor-100,y_cor))\n",
    "    draw_text(gameDisplay, str(displayword), 40, x_cor, y_cor)\n",
    "    draw_text(gameDisplay, 'Score:'+str(score), 40, WIDTH/2 , 5)\n",
    "    y_cor += word_speed\n",
    "    \n",
    "    for event in pygame.event.get():\n",
    "        if event.type == pygame.QUIT:\n",
    "            pygame.quit()\n",
    "            quit()\n",
    "        elif event.type == pygame.KEYDOWN:\n",
    "            yourword += pygame.key.name(event.key)\n",
    "            if displayword.startswith(yourword):\n",
    "                if displayword == yourword:\n",
    "                    score += len(displayword)\n",
    "                    new_word()\n",
    "            else:\n",
    "                game_front_screen()\n",
    "                time.sleep(2)\n",
    "                pygame.quit()\n",
    "                \n",
    "    if y_cor < HEIGHT-5:\n",
    "        pygame.display.update()\n",
    "    else:\n",
    "        game_front_screen()"
   ]
  },
  {
   "cell_type": "code",
   "execution_count": null,
   "metadata": {},
   "outputs": [],
   "source": []
  }
 ],
 "metadata": {
  "kernelspec": {
   "display_name": "Python 3",
   "language": "python",
   "name": "python3"
  },
  "language_info": {
   "codemirror_mode": {
    "name": "ipython",
    "version": 3
   },
   "file_extension": ".py",
   "mimetype": "text/x-python",
   "name": "python",
   "nbconvert_exporter": "python",
   "pygments_lexer": "ipython3",
   "version": "3.8.5"
  }
 },
 "nbformat": 4,
 "nbformat_minor": 4
}
