{
 "cells": [
  {
   "cell_type": "code",
   "execution_count": 1,
   "metadata": {},
   "outputs": [],
   "source": [
    "import socket\n"
   ]
  },
  {
   "cell_type": "code",
   "execution_count": 2,
   "metadata": {},
   "outputs": [],
   "source": [
    "sock = socket.socket(socket.AF_INET, socket.SOCK_STREAM)"
   ]
  },
  {
   "cell_type": "code",
   "execution_count": 3,
   "metadata": {},
   "outputs": [
    {
     "ename": "OSError",
     "evalue": "[WinError 10049] The requested address is not valid in its context",
     "output_type": "error",
     "traceback": [
      "\u001b[1;31m---------------------------------------------------------------------------\u001b[0m",
      "\u001b[1;31mOSError\u001b[0m                                   Traceback (most recent call last)",
      "\u001b[1;32m<ipython-input-3-61f9bd7b1448>\u001b[0m in \u001b[0;36m<module>\u001b[1;34m\u001b[0m\n\u001b[0;32m      1\u001b[0m \u001b[1;31m## Connect to an IP with Port, could be a URL\u001b[0m\u001b[1;33m\u001b[0m\u001b[1;33m\u001b[0m\u001b[1;33m\u001b[0m\u001b[0m\n\u001b[1;32m----> 2\u001b[1;33m \u001b[0msock\u001b[0m\u001b[1;33m.\u001b[0m\u001b[0mconnect\u001b[0m\u001b[1;33m(\u001b[0m\u001b[1;33m(\u001b[0m\u001b[1;34m'0.0.0.0'\u001b[0m\u001b[1;33m,\u001b[0m \u001b[1;36m8080\u001b[0m\u001b[1;33m)\u001b[0m\u001b[1;33m)\u001b[0m\u001b[1;33m\u001b[0m\u001b[1;33m\u001b[0m\u001b[0m\n\u001b[0m\u001b[0;32m      3\u001b[0m \u001b[1;31m## Send some data, this method can be called multiple times\u001b[0m\u001b[1;33m\u001b[0m\u001b[1;33m\u001b[0m\u001b[1;33m\u001b[0m\u001b[0m\n\u001b[0;32m      4\u001b[0m \u001b[0msock\u001b[0m\u001b[1;33m.\u001b[0m\u001b[0msend\u001b[0m\u001b[1;33m(\u001b[0m\u001b[1;34m\"Twenty-five bytes to send\"\u001b[0m\u001b[1;33m)\u001b[0m\u001b[1;33m\u001b[0m\u001b[1;33m\u001b[0m\u001b[0m\n\u001b[0;32m      5\u001b[0m \u001b[1;31m## Receive up to 4096 bytes from a peer\u001b[0m\u001b[1;33m\u001b[0m\u001b[1;33m\u001b[0m\u001b[1;33m\u001b[0m\u001b[0m\n",
      "\u001b[1;31mOSError\u001b[0m: [WinError 10049] The requested address is not valid in its context"
     ]
    }
   ],
   "source": [
    "## Connect to an IP with Port, could be a URL\n",
    "sock.connect(('0.0.0.0', 8080))\n",
    "## Send some data, this method can be called multiple times\n",
    "sock.send(\"Twenty-five bytes to send\")\n",
    "## Receive up to 4096 bytes from a peer\n",
    "sock.recv(4096)\n",
    "## Close the socket connection, no more data transmission\n",
    "sock.close()"
   ]
  },
  {
   "cell_type": "code",
   "execution_count": 6,
   "metadata": {},
   "outputs": [
    {
     "ename": "SyntaxError",
     "evalue": "Missing parentheses in call to 'print'. Did you mean print(from_client)? (<ipython-input-6-80a62daaeaf1>, line 13)",
     "output_type": "error",
     "traceback": [
      "\u001b[1;36m  File \u001b[1;32m\"<ipython-input-6-80a62daaeaf1>\"\u001b[1;36m, line \u001b[1;32m13\u001b[0m\n\u001b[1;33m    print from_client\u001b[0m\n\u001b[1;37m          ^\u001b[0m\n\u001b[1;31mSyntaxError\u001b[0m\u001b[1;31m:\u001b[0m Missing parentheses in call to 'print'. Did you mean print(from_client)?\n"
     ]
    }
   ],
   "source": [
    "import socket\n",
    "serv = socket.socket(socket.AF_INET, socket.SOCK_STREAM)\n",
    "serv.bind(('0.0.0.0', 8080))\n",
    "serv.listen(5)\n",
    "while True:\n",
    "    conn, addr = serv.accept()\n",
    "    from_client = ''\n",
    "    while True:\n",
    "        data = conn.recv(4096)\n",
    "        if not data:break\n",
    "        from_client += data\n",
    "        print from_client\n",
    "        conn.send(\"I am SERVER\")\n",
    "    conn.close()\n",
    "    print 'client disconnected'"
   ]
  },
  {
   "cell_type": "code",
   "execution_count": 7,
   "metadata": {},
   "outputs": [
    {
     "ename": "SyntaxError",
     "evalue": "Missing parentheses in call to 'print'. Did you mean print(\"from device 2: \" + message.message)? (<ipython-input-7-d330a52a2cc3>, line 17)",
     "output_type": "error",
     "traceback": [
      "\u001b[1;36m  File \u001b[1;32m\"<ipython-input-7-d330a52a2cc3>\"\u001b[1;36m, line \u001b[1;32m17\u001b[0m\n\u001b[1;33m    print \"from device 2: \" + message.message\u001b[0m\n\u001b[1;37m          ^\u001b[0m\n\u001b[1;31mSyntaxError\u001b[0m\u001b[1;31m:\u001b[0m Missing parentheses in call to 'print'. Did you mean print(\"from device 2: \" + message.message)?\n"
     ]
    }
   ],
   "source": [
    "import os\n",
    "pnconfig = PNConfiguration()\n",
    "pnconfig.publish_key = 'your pubnub publish key here'\n",
    "pnconfig.subscribe_key = 'your pubnub subscribe key here'\n",
    "pnconfig.ssl = True\n",
    "pubnub = PubNub(pnconfig)\n",
    "def my_publish_callback(envelope, status):\n",
    "    # Check whether request successfully completed or not\n",
    "    if not status.is_error():\n",
    "        pass\n",
    "class MySubscribeCallback(SubscribeCallback):\n",
    "    def presence(self, pubnub, presence):\n",
    "        pass\n",
    "    def status(self, pubnub, status):\n",
    "        pass\n",
    "    def message(self, pubnub, message):\n",
    "        print \"from device 2: \" + message.message\n",
    "pubnub.add_listener(MySubscribeCallback())\n",
    "pubnub.subscribe().channels(\"chan-1\").execute()\n",
    "## publish a message\n",
    "while True:\n",
    "    msg = raw_input(\"Input a message to publish: \")\n",
    "    if msg == 'exit': os._exit(1)\n",
    "    pubnub.publish().channel(\"chan-1\").message(str(msg)).pn_async(my_publish_callback)"
   ]
  },
  {
   "cell_type": "code",
   "execution_count": null,
   "metadata": {},
   "outputs": [],
   "source": []
  }
 ],
 "metadata": {
  "kernelspec": {
   "display_name": "Python 3",
   "language": "python",
   "name": "python3"
  },
  "language_info": {
   "codemirror_mode": {
    "name": "ipython",
    "version": 3
   },
   "file_extension": ".py",
   "mimetype": "text/x-python",
   "name": "python",
   "nbconvert_exporter": "python",
   "pygments_lexer": "ipython3",
   "version": "3.8.5"
  }
 },
 "nbformat": 4,
 "nbformat_minor": 4
}
